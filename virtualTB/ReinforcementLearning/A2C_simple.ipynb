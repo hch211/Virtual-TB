{
 "cells": [
  {
   "cell_type": "code",
   "execution_count": 47,
   "metadata": {},
   "outputs": [],
   "source": [
    "import sys\n",
    "import gym\n",
    "import numpy as np\n",
    "import math\n",
    "import random\n",
    "import matplotlib.pyplot as plt\n",
    "from collections import namedtuple\n",
    "import time\n",
    "import configparser\n",
    "\n",
    "import torch\n",
    "import torch.nn as nn\n",
    "from torch import optim\n",
    "from torch.autograd import Variable\n",
    "import torch.nn.functional as F\n",
    "from torch.distributions import Normal\n",
    "from torch.distributions import Categorical\n",
    "from torch.distributions import OneHotCategorical\n",
    "from torch.distributions import MultivariateNormal\n",
    "import virtualTB\n",
    "\n",
    "env = gym.make('VirtualTB-v0')\n",
    "env_action_space = env.action_space.shape[0]\n",
    "            \n",
    "env.close()"
   ]
  },
  {
   "cell_type": "code",
   "execution_count": 67,
   "metadata": {},
   "outputs": [],
   "source": [
    "class ActorCritic(nn.Module):\n",
    "    def __init__(self, num_inputs, num_outputs, hidden_size, std=0.0):\n",
    "        super(ActorCritic, self).__init__()\n",
    "        \n",
    "        self.critic = nn.Sequential(\n",
    "            nn.Linear(num_inputs, hidden_size),\n",
    "            nn.Tanh(),\n",
    "            nn.Linear(hidden_size, 1)\n",
    "        )\n",
    "        \n",
    "        self.actor = nn.Sequential(\n",
    "            nn.Linear(num_inputs, hidden_size),\n",
    "            nn.Tanh(),\n",
    "            nn.Linear(hidden_size, num_outputs),\n",
    "            nn.Tanh()\n",
    "        )\n",
    "        \n",
    "    def forward(self, x):\n",
    "        value = self.critic(x)\n",
    "        probs = self.actor(x)\n",
    "        dist = F.softmax(probs,dim=1)\n",
    "#         return dist, probs, value\n",
    "        return dist, value"
   ]
  },
  {
   "cell_type": "code",
   "execution_count": 68,
   "metadata": {},
   "outputs": [],
   "source": [
    "def compute_returns(next_value, rewards, masks, gamma=0.99):\n",
    "    R = next_value\n",
    "    returns = []\n",
    "    for step in reversed(range(len(rewards))):\n",
    "        R = rewards[step] + gamma * R * masks[step]\n",
    "        returns.insert(0, R)\n",
    "    return returns"
   ]
  },
  {
   "cell_type": "code",
   "execution_count": 76,
   "metadata": {},
   "outputs": [
    {
     "data": {
      "text/plain": [
       "Categorical(probs: torch.Size([3]))"
      ]
     },
     "execution_count": 76,
     "metadata": {},
     "output_type": "execute_result"
    }
   ],
   "source": [
    "a = Categorical(torch.tensor([1.,2.,3.]))\n",
    "a"
   ]
  },
  {
   "cell_type": "code",
   "execution_count": 71,
   "metadata": {},
   "outputs": [
    {
     "name": "stdout",
     "output_type": "stream",
     "text": [
      "tensor([[ 0.0915, -0.0398,  0.1450,  0.0270,  0.0124, -0.1909, -0.0147, -0.1095,\n",
      "         -0.1438,  0.0675, -0.0169,  0.0272, -0.0599,  0.0155,  0.1594,  0.0826,\n",
      "          0.0063,  0.0275,  0.0402,  0.0421,  0.1550, -0.1479,  0.0258, -0.1217,\n",
      "          0.3501, -0.1709,  0.0099]], device='cuda:0', grad_fn=<TanhBackward>)\n",
      "tensor([[0.0399, 0.0350, 0.0421, 0.0374, 0.0369, 0.0301, 0.0359, 0.0326, 0.0315,\n",
      "         0.0390, 0.0358, 0.0374, 0.0343, 0.0370, 0.0427, 0.0396, 0.0367, 0.0374,\n",
      "         0.0379, 0.0380, 0.0425, 0.0314, 0.0374, 0.0322, 0.0517, 0.0307, 0.0368]],\n",
      "       device='cuda:0', grad_fn=<SoftmaxBackward>)\n"
     ]
    },
    {
     "ename": "AttributeError",
     "evalue": "'Tensor' object has no attribute 'sample'",
     "output_type": "error",
     "traceback": [
      "\u001b[0;31m---------------------------------------------------------------------------\u001b[0m",
      "\u001b[0;31mAttributeError\u001b[0m                            Traceback (most recent call last)",
      "\u001b[0;32m<ipython-input-71-fc215b1f3049>\u001b[0m in \u001b[0;36m<module>\u001b[0;34m\u001b[0m\n\u001b[1;32m     59\u001b[0m \u001b[0;31m#         print(action)\u001b[0m\u001b[0;34m\u001b[0m\u001b[0;34m\u001b[0m\u001b[0;34m\u001b[0m\u001b[0m\n\u001b[1;32m     60\u001b[0m \u001b[0;34m\u001b[0m\u001b[0m\n\u001b[0;32m---> 61\u001b[0;31m         \u001b[0mlog_prob\u001b[0m \u001b[0;34m=\u001b[0m \u001b[0mdist\u001b[0m\u001b[0;34m.\u001b[0m\u001b[0msample\u001b[0m\u001b[0;34m(\u001b[0m\u001b[0;34m)\u001b[0m\u001b[0;34m\u001b[0m\u001b[0;34m\u001b[0m\u001b[0m\n\u001b[0m\u001b[1;32m     62\u001b[0m \u001b[0;31m#         print(log_prob)\u001b[0m\u001b[0;34m\u001b[0m\u001b[0;34m\u001b[0m\u001b[0;34m\u001b[0m\u001b[0m\n\u001b[1;32m     63\u001b[0m         \u001b[0mentropy\u001b[0m \u001b[0;34m+=\u001b[0m \u001b[0mdist\u001b[0m\u001b[0;34m.\u001b[0m\u001b[0mentropy\u001b[0m\u001b[0;34m(\u001b[0m\u001b[0;34m)\u001b[0m\u001b[0;34m.\u001b[0m\u001b[0mmean\u001b[0m\u001b[0;34m(\u001b[0m\u001b[0;34m)\u001b[0m\u001b[0;34m\u001b[0m\u001b[0;34m\u001b[0m\u001b[0m\n",
      "\u001b[0;31mAttributeError\u001b[0m: 'Tensor' object has no attribute 'sample'"
     ]
    }
   ],
   "source": [
    "from gym import wrappers\n",
    "from copy import deepcopy\n",
    "import pickle\n",
    "import matplotlib\n",
    "import matplotlib.pyplot as plt\n",
    "\n",
    "FLOAT = torch.FloatTensor\n",
    "LONG = torch.LongTensor\n",
    "device = torch.device('cuda' if torch.cuda.is_available else 'cpu')\n",
    "\n",
    "env = gym.make('VirtualTB-v0')\n",
    "\n",
    "env.seed(0)\n",
    "np.random.seed(0)\n",
    "torch.manual_seed(0)\n",
    "\n",
    "state_dim = env.observation_space.shape[0]\n",
    "action_dim = env.action_space.shape[0]\n",
    "hidden_dim = 256\n",
    "\n",
    "lr = 1e-4\n",
    "\n",
    "model = ActorCritic(state_dim, action_dim, hidden_dim).to(device)\n",
    "optimizer = optim.Adam(model.parameters())\n",
    "\n",
    "rewards = []\n",
    "test_reward_record = []\n",
    "ctr_record = []\n",
    "reward_record = []\n",
    "value_loss_record = []\n",
    "policy_loss_record = []\n",
    "\n",
    "test_ep = 100\n",
    "\n",
    "\n",
    "for i_episode in range(10000):\n",
    "    log_probs = []\n",
    "    values    = []\n",
    "    rewards   = []\n",
    "    masks     = []\n",
    "    entropy = 0\n",
    "    \n",
    "    state = torch.Tensor([env.reset()])\n",
    "\n",
    "    episode_reward = 0\n",
    "    \n",
    "    while True:\n",
    "        state = torch.FloatTensor(state).to(device)\n",
    "#         print(state)\n",
    "\n",
    "        dist, probs, value = model(state)\n",
    "        action = probs.squeeze(0)\n",
    "        log_prob = dist\n",
    "        \n",
    "#         dist, value = model(state)\n",
    "#         action = dist.sample()\n",
    "        next_state, reward, done, _ = env.step(action.detach().cpu().numpy())\n",
    "#         print(dist)\n",
    "#         print(action)\n",
    "        \n",
    "        log_prob = dist.sample()\n",
    "#         print(log_prob)\n",
    "        entropy += dist.entropy().mean()\n",
    "        \n",
    "        log_probs.append(log_prob)\n",
    "        values.append(value)\n",
    "        rewards.append(torch.FloatTensor(reward).unsqueeze(1).to(device))\n",
    "        masks.append(torch.FloatTensor(1 - done).unsqueeze(1).to(device))\n",
    "\n",
    "        episode_reward += reward\n",
    "        reward_record.append(reward)\n",
    "\n",
    "        state = next_state\n",
    "\n",
    "        # 可以加提前终止的机制\n",
    "\n",
    "        if done:\n",
    "            break\n",
    "            \n",
    "    next_state = torch.FloatTensor(next_state).to(device)\n",
    "    _, next_value = model(next_state)\n",
    "    returns = compute_returns(next_value, rewards, masks)\n",
    "    \n",
    "    log_probs = torch.cat(log_probs)\n",
    "    returns   = torch.cat(returns).detach()\n",
    "    values    = torch.cat(values)\n",
    "\n",
    "    advantage = returns - values\n",
    "\n",
    "    actor_loss  = -(log_probs * advantage.detach()).mean()\n",
    "    critic_loss = advantage.pow(2).mean()\n",
    "\n",
    "    loss = actor_loss + 0.5 * critic_loss - 0.001 * entropy\n",
    "\n",
    "    optimizer.zero_grad()\n",
    "    loss.backward()\n",
    "    optimizer.step()\n",
    "            \n",
    "    rewards.append(episode_reward)\n",
    "    \n",
    "    \n",
    "    if i_episode % test_ep == 0:\n",
    "        episode_reward = 0\n",
    "        episode_step = 0\n",
    "        for i in range(50):\n",
    "            state = torch.Tensor([env.reset()])\n",
    "            while True:\n",
    "                state = torch.FloatTensor(state).to(device)\n",
    "                probs, value = model(state)\n",
    "        #         print(action)\n",
    "                action = probs.squeeze(0)\n",
    "                next_state, reward, done, _ = env.step(action.detach().cpu().numpy())\n",
    "                \n",
    "                episode_reward += reward\n",
    "                episode_step += 1\n",
    "\n",
    "#                 next_state = torch.Tensor([next_state])\n",
    "\n",
    "                state = next_state\n",
    "                if done:\n",
    "                    break\n",
    "\n",
    "        # rewards.append(episode_reward)\n",
    "        test_reward_record.append(episode_reward / 50)\n",
    "        ctr_record.append(episode_reward / episode_step/ 10)\n",
    "        print(\"Episode: {}, total numsteps: {}, average reward: {}, CTR: {}\".format(i_episode, episode_step, episode_reward / 50, episode_reward / episode_step/ 10))\n",
    "    \n",
    "env.close()"
   ]
  },
  {
   "cell_type": "code",
   "execution_count": null,
   "metadata": {},
   "outputs": [],
   "source": [
    "torch.save(actor,'a2c_actor.pt')\n",
    "torch.save(critic,'a2c_critic.pt')\n",
    "# model = torch.load('ddpg.pt')"
   ]
  },
  {
   "cell_type": "code",
   "execution_count": 3,
   "metadata": {},
   "outputs": [],
   "source": [
    "with open('./rewards_record.pkl', 'wb') as f:\n",
    "    pickle.dump(rewards, f)\n",
    "with open('./test_reward_record.pkl', 'wb') as f:\n",
    "    pickle.dump(test_reward_record, f)\n",
    "with open('./ctr_record.pkl', 'wb') as f:\n",
    "    pickle.dump(ctr_record, f)\n",
    "with open('./reward_record.pkl', 'wb') as f:\n",
    "    pickle.dump(reward_record, f)\n",
    "with open('./value_loss_record.pkl', 'wb') as f:\n",
    "    pickle.dump(value_loss_record, f)\n",
    "with open('./policy_loss.pkl', 'wb') as f:\n",
    "    pickle.dump(policy_loss_record, f)    "
   ]
  },
  {
   "cell_type": "code",
   "execution_count": 4,
   "metadata": {},
   "outputs": [
    {
     "data": {
      "image/png": "[encoded data removed]",
      "text/plain": [
       "<Figure size 432x288 with 1 Axes>"
      ]
     },
     "metadata": {
      "needs_background": "light"
     },
     "output_type": "display_data"
    },
    {
     "data": {
      "image/png": "[encoded data removed]",
      "text/plain": [
       "<Figure size 432x288 with 1 Axes>"
      ]
     },
     "metadata": {
      "needs_background": "light"
     },
     "output_type": "display_data"
    },
    {
     "data": {
      "image/png": "[encoded data removed]",
      "text/plain": [
       "<Figure size 432x288 with 1 Axes>"
      ]
     },
     "metadata": {
      "needs_background": "light"
     },
     "output_type": "display_data"
    },
    {
     "data": {
      "image/png": "[encoded data removed]",
      "text/plain": [
       "<Figure size 432x288 with 1 Axes>"
      ]
     },
     "metadata": {
      "needs_background": "light"
     },
     "output_type": "display_data"
    },
    {
     "data": {
      "image/png": "[encoded data removed]",
      "text/plain": [
       "<Figure size 432x288 with 1 Axes>"
      ]
     },
     "metadata": {
      "needs_background": "light"
     },
     "output_type": "display_data"
    },
    {
     "data": {
      "image/png": "[encoded data removed]",
      "text/plain": [
       "<Figure size 432x288 with 1 Axes>"
      ]
     },
     "metadata": {
      "needs_background": "light"
     },
     "output_type": "display_data"
    }
   ],
   "source": [
    "def getInfo():\n",
    "    '''返回六个列表,分别用于保存reward/rewards/value_loss/policy_loss/test_reward/ctr'''\n",
    "    info = list()\n",
    "    fileNames = [\n",
    "        './reward_record.pkl',\n",
    "        './rewards_record.pkl',\n",
    "        './value_loss_record.pkl',\n",
    "        './policy_loss.pkl',\n",
    "        './test_reward_record.pkl',\n",
    "        './ctr_record.pkl']  # 文件的名字\n",
    "    for name in fileNames:\n",
    "        with open(name, 'rb') as f:\n",
    "            item = pickle.load(f)\n",
    "            info.append(item)\n",
    "    return info\n",
    "\n",
    "reward_record, rewards, value_loss_record, policy_loss_record, test_reward_record,ctr_record = getInfo()\n",
    "\n",
    "plt.plot(reward_record)\n",
    "plt.ylabel('reward')\n",
    "plt.show()\n",
    "\n",
    "plt.plot(rewards)\n",
    "plt.ylabel('rewards')\n",
    "plt.show()\n",
    "\n",
    "plt.plot(value_loss_record)\n",
    "plt.ylabel('value_loss')\n",
    "plt.show()\n",
    "\n",
    "plt.plot(policy_loss_record)\n",
    "plt.ylabel('policy_loss')\n",
    "plt.show()\n",
    "\n",
    "plt.plot(test_reward_record)\n",
    "plt.ylabel('test_reward')\n",
    "plt.show()\n",
    "\n",
    "plt.plot(ctr_record)\n",
    "plt.ylabel('ctr')\n",
    "plt.show()"
   ]
  },
  {
   "cell_type": "code",
   "execution_count": null,
   "metadata": {},
   "outputs": [],
   "source": []
  }
 ],
 "metadata": {
  "kernelspec": {
   "display_name": "Python 3",
   "language": "python",
   "name": "python3"
  },
  "language_info": {
   "codemirror_mode": {
    "name": "ipython",
    "version": 3
   },
   "file_extension": ".py",
   "mimetype": "text/x-python",
   "name": "python",
   "nbconvert_exporter": "python",
   "pygments_lexer": "ipython3",
   "version": "3.7.4"
  }
 },
 "nbformat": 4,
 "nbformat_minor": 4
}
